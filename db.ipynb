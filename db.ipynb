{
 "cells": [
  {
   "cell_type": "code",
   "execution_count": null,
   "metadata": {},
   "outputs": [],
   "source": [
    "import sqlite3\n",
    "\n",
    "con = sqlite3.connect('addr.db')\n",
    "cursor = con.cursor()\n",
    "\n",
    "cursor.execute(\"DROP TABLE IF EXISTS tblAddr\")\n",
    "cursor.execute(\"\"\"CREATE TABLE tblAddr\n",
    "    (name CHAR(16) PRIMARY KEY, phone CHAR(16), addr TEXT)\"\"\")\n",
    "\n",
    "cursor.execute(\"INSERT INTO tblAddr VALUES ('김상형', '123-4567', '오산')\")\n",
    "cursor.execute(\"INSERT INTO tblAddr VALUES ('한경은', '555-1004', '수원')\")\n",
    "cursor.execute(\"INSERT INTO tblAddr VALUES ('한주완', '444-1092', '대전')\")\n",
    "\n",
    "con.commit()\n",
    "\n",
    "cursor.close()\n",
    "con.close()"
   ]
  },
  {
   "cell_type": "code",
   "execution_count": null,
   "metadata": {},
   "outputs": [],
   "source": [
    "import sqlite3\n",
    "\n",
    "con = sqlite3.connect('addr.db')\n",
    "cursor = con.cursor()\n",
    "\n",
    "cursor.execute(\"DROP TABLE IF EXISTS tblAddr\")\n",
    "cursor.execute(\"\"\"CREATE TABLE tblAddr\n",
    "    (name CHAR(16) PRIMARY KEY, phone CHAR(16), addr TEXT)\"\"\")\n",
    "\n",
    "cursor.execute(\"INSERT INTO tblAddr VALUES ('김상형', '123-4567', '오산')\")\n",
    "cursor.execute(\"INSERT INTO tblAddr VALUES ('한경은', '555-1004', '수원')\")\n",
    "cursor.execute(\"INSERT INTO tblAddr VALUES ('한주완', '444-1092', '대전')\")\n",
    "\n",
    "con.commit()\n",
    "\n",
    "cursor.close()\n",
    "con.close()"
   ]
  }
 ],
 "metadata": {
  "kernelspec": {
   "display_name": "Python 3",
   "language": "python",
   "name": "python3"
  }
 },
 "nbformat": 4,
 "nbformat_minor": 4
}
