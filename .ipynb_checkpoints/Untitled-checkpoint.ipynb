{
 "cells": [
  {
   "cell_type": "code",
   "execution_count": null,
   "metadata": {},
   "outputs": [],
   "source": [
    "import random\n",
    "count=0\n",
    "secret = random.randint(1,100)\n",
    "while True:\n",
    "    num=int(input(\"숫자를 입력하세요(끝낼때 0):\"))\n",
    "    count+=1\n",
    "    if num ==0:\n",
    "        break\n",
    "    if num == secret:\n",
    "        print(\"맞췄습니다,%d번\"%count)\n",
    "    elif num > secret:\n",
    "        print(\"입력한 숫자보다  더 작습니다\")\n",
    "\n",
    "    else:\n",
    "        print(\"입력한 숫자보다 더큽니다\")\n"
   ]
  },
  {
   "cell_type": "code",
   "execution_count": 4,
   "metadata": {},
   "outputs": [
    {
     "name": "stdout",
     "output_type": "stream",
     "text": [
      "3.8.3 (default, Jul  2 2020, 17:30:36) [MSC v.1916 64 bit (AMD64)]\n",
      "win32\n",
      "sys.getwindowsversion(major=10, minor=0, build=18363, platform=2, service_pack='')\n"
     ]
    }
   ],
   "source": [
    "import sys\n",
    "print(sys.version)\n",
    "print(sys.platform)\n",
    "if (sys.platform ==\"win32\"):\n",
    "    print(sys.getwindowsversion())\n",
    "    \n",
    "    "
   ]
  },
  {
   "cell_type": "code",
   "execution_count": 5,
   "metadata": {},
   "outputs": [
    {
     "name": "stdout",
     "output_type": "stream",
     "text": [
      "['C:\\\\Users\\\\funny\\\\anaconda3\\\\lib\\\\site-packages\\\\ipykernel_launcher.py', '-f', 'C:\\\\Users\\\\funny\\\\AppData\\\\Roaming\\\\jupyter\\\\runtime\\\\kernel-b033f07f-d948-492a-8eea-bd7b03f324f1.json']\n"
     ]
    }
   ],
   "source": [
    "import sys\n",
    "print(sys.argv)"
   ]
  },
  {
   "cell_type": "code",
   "execution_count": 7,
   "metadata": {},
   "outputs": [
    {
     "name": "stdout",
     "output_type": "stream",
     "text": [
      "invalid literal for int() with base 10: '89점'\n",
      "작업완료\n"
     ]
    }
   ],
   "source": [
    "str=\"89점\"\n",
    "try:\n",
    "    score=int(str)\n",
    "    print(score)\n",
    "    a=str[5]\n",
    "except ValueError as e:\n",
    "    print(e)\n",
    "    \n",
    "except IndexError  as e:\n",
    "    print(e)\n",
    "\n",
    "print(\"작업완료\")"
   ]
  },
  {
   "cell_type": "code",
   "execution_count": 8,
   "metadata": {},
   "outputs": [
    {
     "name": "stdout",
     "output_type": "stream",
     "text": [
      "-10= 55\n",
      "입력값이 잘못되었습니다.\n"
     ]
    }
   ],
   "source": [
    "def calcsum(n):\n",
    "    if (n<0):\n",
    "        raise ValueError #강제\n",
    "    sum=0\n",
    "    for i in range(n+1):\n",
    "        sum=sum+i\n",
    "    return sum\n",
    "\n",
    "try:\n",
    "    print(\"-10=\",calcsum(10))\n",
    "    print(\"~-5=\",calcsum(-5))\n",
    "\n",
    "except ValueError:\n",
    "    print('입력값이 잘못되었습니다.')"
   ]
  },
  {
   "cell_type": "code",
   "execution_count": 9,
   "metadata": {},
   "outputs": [
    {
     "ename": "AttributeError",
     "evalue": "'builtin_function_or_method' object has no attribute 'a'",
     "output_type": "error",
     "traceback": [
      "\u001b[1;31m---------------------------------------------------------------------------\u001b[0m",
      "\u001b[1;31mAttributeError\u001b[0m                            Traceback (most recent call last)",
      "\u001b[1;32m<ipython-input-9-d48561b8f16c>\u001b[0m in \u001b[0;36m<module>\u001b[1;34m\u001b[0m\n\u001b[1;32m----> 1\u001b[1;33m \u001b[0mopen\u001b[0m\u001b[1;33m.\u001b[0m\u001b[0ma\u001b[0m\u001b[1;33m.\u001b[0m\u001b[0mtxt\u001b[0m\u001b[1;33m(\u001b[0m\u001b[1;33m)\u001b[0m\u001b[1;33m\u001b[0m\u001b[1;33m\u001b[0m\u001b[0m\n\u001b[0m",
      "\u001b[1;31mAttributeError\u001b[0m: 'builtin_function_or_method' object has no attribute 'a'"
     ]
    }
   ],
   "source": [
    "open.a.txt()"
   ]
  },
  {
   "cell_type": "code",
   "execution_count": 14,
   "metadata": {},
   "outputs": [
    {
     "name": "stdout",
     "output_type": "stream",
     "text": [
      "삶이 그대를\n"
     ]
    }
   ],
   "source": [
    "try:\n",
    "    f=open(\"a.txt\",\"rt\")\n",
    "    text= f.read()\n",
    "    print(text)\n",
    "except FileNotFoundError:\n",
    "    print(\"No file...\")\n",
    "finally:\n",
    "    f.close()"
   ]
  },
  {
   "cell_type": "code",
   "execution_count": 15,
   "metadata": {},
   "outputs": [
    {
     "ename": "TypeError",
     "evalue": "'str' object is not callable",
     "output_type": "error",
     "traceback": [
      "\u001b[1;31m---------------------------------------------------------------------------\u001b[0m",
      "\u001b[1;31mTypeError\u001b[0m                                 Traceback (most recent call last)",
      "\u001b[1;32m<ipython-input-15-880b8b9e2718>\u001b[0m in \u001b[0;36m<module>\u001b[1;34m\u001b[0m\n\u001b[0;32m      6\u001b[0m     \u001b[1;32mif\u001b[0m \u001b[1;32mnot\u001b[0m \u001b[0mrow\u001b[0m\u001b[1;33m:\u001b[0m\u001b[1;33m\u001b[0m\u001b[1;33m\u001b[0m\u001b[0m\n\u001b[0;32m      7\u001b[0m         \u001b[1;32mbreak\u001b[0m\u001b[1;33m\u001b[0m\u001b[1;33m\u001b[0m\u001b[0m\n\u001b[1;32m----> 8\u001b[1;33m     \u001b[0mtext\u001b[0m \u001b[1;33m+=\u001b[0m\u001b[0mstr\u001b[0m\u001b[1;33m(\u001b[0m\u001b[0mline\u001b[0m\u001b[1;33m)\u001b[0m\u001b[1;33m\u001b[0m\u001b[1;33m\u001b[0m\u001b[0m\n\u001b[0m\u001b[0;32m      9\u001b[0m     \u001b[0mline\u001b[0m \u001b[1;33m+=\u001b[0m\u001b[1;36m1\u001b[0m\u001b[1;33m\u001b[0m\u001b[1;33m\u001b[0m\u001b[0m\n",
      "\u001b[1;31mTypeError\u001b[0m: 'str' object is not callable"
     ]
    }
   ],
   "source": [
    "f=open(\"a.txt\",\"rt\")\n",
    "text=\"\"\n",
    "line=1\n",
    "while True:\n",
    "    row=f.readline()\n",
    "    if not row:\n",
    "        break\n",
    "    text +=str(line)\n",
    "    line +=1"
   ]
  },
  {
   "cell_type": "code",
   "execution_count": 17,
   "metadata": {},
   "outputs": [
    {
     "name": "stdout",
     "output_type": "stream",
     "text": [
      "삶이 그대를"
     ]
    }
   ],
   "source": [
    "f=open(\"a.txt\",\"rt\")\n",
    "rows=f.readlines()\n",
    "for row in rows:\n",
    "    print(row,end='')\n",
    "f.close()"
   ]
  },
  {
   "cell_type": "code",
   "execution_count": null,
   "metadata": {},
   "outputs": [],
   "source": []
  }
 ],
 "metadata": {
  "kernelspec": {
   "display_name": "Python 3",
   "language": "python",
   "name": "python3"
  },
  "language_info": {
   "codemirror_mode": {
    "name": "ipython",
    "version": 3
   },
   "file_extension": ".py",
   "mimetype": "text/x-python",
   "name": "python",
   "nbconvert_exporter": "python",
   "pygments_lexer": "ipython3",
   "version": "3.8.3"
  }
 },
 "nbformat": 4,
 "nbformat_minor": 4
}
