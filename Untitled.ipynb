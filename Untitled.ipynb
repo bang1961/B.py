{
 "cells": [
  {
   "cell_type": "code",
   "execution_count": null,
   "metadata": {},
   "outputs": [],
   "source": [
    "from tkinter import *\n",
    "main = Tk()\n",
    "main.title(\"Tk Test\")\n",
    "main.geometry(\"300x200\")\n",
    "\n",
    "lbl = Label(main, text=\"Label\", font=\"Arial 20\")\n",
    "lbl.pack()\n",
    "\n",
    "def appleclick():\n",
    "    lbl[\"text\"] = \"Apple\"\n",
    "apple = Button(main, text=\"Apple\", foreground=\"Red\", command=appleclick)\n",
    "apple.pack()\n",
    "\n",
    "def orangeclick():\n",
    "    lbl[\"text\"] = \"Orange\"\n",
    "orange = Button(main, text=\"Orange\", foreground=\"Green\", command=orangeclick)\n",
    "orange.pack()\n",
    "\n",
    "main.mainloop()\n"
   ]
  },
  {
   "cell_type": "code",
   "execution_count": null,
   "metadata": {},
   "outputs": [],
   "source": []
  },
  {
   "cell_type": "code",
   "execution_count": null,
   "metadata": {},
   "outputs": [],
   "source": []
  }
 ],
 "metadata": {
  "kernelspec": {
   "display_name": "Python 3",
   "language": "python",
   "name": "python3"
  }
 },
 "nbformat": 4,
 "nbformat_minor": 4
}
